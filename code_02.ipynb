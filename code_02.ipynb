{
 "cells": [
  {
   "cell_type": "markdown",
   "id": "9f6cb67f",
   "metadata": {},
   "source": [
    "## 状態"
   ]
  },
  {
   "cell_type": "code",
   "execution_count": null,
   "id": "e6e490c9",
   "metadata": {},
   "outputs": [],
   "source": [
    "最大血圧 = 150  # 単位はmmHg"
   ]
  },
  {
   "cell_type": "code",
   "execution_count": null,
   "id": "e5fb1eef",
   "metadata": {},
   "outputs": [],
   "source": [
    "最大血圧 = 130  # 血圧が下がった"
   ]
  },
  {
   "cell_type": "code",
   "execution_count": null,
   "id": "bf6af1f4",
   "metadata": {},
   "outputs": [],
   "source": [
    "毎月の小遣い = 1200\n",
    "毎月の小遣い = 毎月の小遣い+300"
   ]
  },
  {
   "cell_type": "code",
   "execution_count": null,
   "id": "59e232cb",
   "metadata": {},
   "outputs": [],
   "source": [
    "毎月の小遣い = 1500\n",
    "テストの平均点 = 90"
   ]
  },
  {
   "cell_type": "code",
   "execution_count": null,
   "id": "06d670ec",
   "metadata": {},
   "outputs": [],
   "source": [
    "# 平均点が80点以上なら，小遣いが2倍になる\n",
    "if テストの平均点 > 80:\n",
    "    毎月の小遣い = 毎月の小遣い*2"
   ]
  },
  {
   "cell_type": "markdown",
   "id": "9618c418",
   "metadata": {},
   "source": [
    "## 離散と連続"
   ]
  },
  {
   "cell_type": "code",
   "execution_count": null,
   "id": "ea61ec53",
   "metadata": {},
   "outputs": [],
   "source": [
    "# 勇者\n",
    "体力 = 50\n",
    "魔法力 = 20\n",
    "経験値 = 0"
   ]
  },
  {
   "cell_type": "code",
   "execution_count": null,
   "id": "123501c7",
   "metadata": {},
   "outputs": [],
   "source": [
    "毒 = 1"
   ]
  },
  {
   "cell_type": "code",
   "execution_count": null,
   "id": "96a8f22a",
   "metadata": {},
   "outputs": [],
   "source": [
    "if 毒 == 1:\n",
    "    # 毒のステータス異常がある場合\n",
    "    体力 = 体力-2"
   ]
  },
  {
   "cell_type": "code",
   "execution_count": null,
   "id": "b4744526",
   "metadata": {},
   "outputs": [],
   "source": [
    "職業 = 1  # 1:勇者 2:魔法使い 3:修道士"
   ]
  },
  {
   "cell_type": "code",
   "execution_count": null,
   "id": "0306c7c1",
   "metadata": {},
   "outputs": [],
   "source": [
    "体力の回復量 = 10\n",
    "if 職業 == 2:\n",
    "    # 魔法使いは魔法が得意\n",
    "    体力の回復量 = 体力の回復量*2\n",
    "体力 = 体力+体力の回復量"
   ]
  },
  {
   "cell_type": "markdown",
   "id": "f55bbfdd",
   "metadata": {},
   "source": [
    "## 変化する数"
   ]
  },
  {
   "cell_type": "code",
   "execution_count": null,
   "id": "d2193875",
   "metadata": {},
   "outputs": [],
   "source": [
    "テストの平均点 = [75, 82, 88, 85]  # 新しい順"
   ]
  },
  {
   "cell_type": "code",
   "execution_count": null,
   "id": "d24713e7",
   "metadata": {},
   "outputs": [],
   "source": [
    "降水確率 = [30, 10, 0, 0, 5, 0] # 3時間ごと"
   ]
  },
  {
   "cell_type": "code",
   "execution_count": null,
   "id": "120f2a86",
   "metadata": {},
   "outputs": [],
   "source": [
    "降水確率[0]  # 0番目の降水確率を取り出す"
   ]
  },
  {
   "cell_type": "code",
   "execution_count": null,
   "id": "cdda3d70",
   "metadata": {},
   "outputs": [],
   "source": [
    "# 直近2回の平均点の差を計算する\n",
    "テストの平均点[1]-テストの平均点[0]"
   ]
  },
  {
   "cell_type": "markdown",
   "id": "3ec51869",
   "metadata": {},
   "source": [
    "## 順番に計算する"
   ]
  },
  {
   "cell_type": "code",
   "execution_count": null,
   "id": "0ce1038a",
   "metadata": {},
   "outputs": [],
   "source": [
    "降水確率 = [10, 20, 90, 10, 5, 0] # 3時間ごと"
   ]
  },
  {
   "cell_type": "code",
   "execution_count": null,
   "id": "790b2262",
   "metadata": {},
   "outputs": [],
   "source": [
    "合計 = 0  # この変数に合計を足して行く"
   ]
  },
  {
   "cell_type": "code",
   "execution_count": null,
   "id": "ff634205",
   "metadata": {},
   "outputs": [],
   "source": [
    "合計 = 合計+降水確率[0]  # 合計は10\n",
    "合計 = 合計+降水確率[1]  # 合計は30\n",
    "合計 = 合計+降水確率[2]  # 合計は120\n",
    "合計 = 合計+降水確率[3]  # 合計は130\n",
    "合計 = 合計+降水確率[4]  # 合計は135\n",
    "合計 = 合計+降水確率[5]  # 合計は135\n",
    "合計/6   # 平均を計算"
   ]
  },
  {
   "cell_type": "code",
   "execution_count": null,
   "id": "6263d29e",
   "metadata": {},
   "outputs": [],
   "source": [
    "合計 = 0\n",
    "インデックス = 0\n",
    "合計 = 合計+降水確率[インデックス]\n",
    "インデックス = インデックス+1\n",
    "合計 = 合計+降水確率[インデックス]\n",
    "インデックス = インデックス+1\n",
    "合計 = 合計+降水確率[インデックス]\n",
    "インデックス = インデックス+1\n",
    "合計 = 合計+降水確率[インデックス]\n",
    "インデックス = インデックス+1\n",
    "合計 = 合計+降水確率[インデックス]\n",
    "インデックス = インデックス+1\n",
    "合計 = 合計+降水確率[インデックス]\n",
    "インデックス = インデックス+1\n",
    "合計/6   # 平均を計算"
   ]
  },
  {
   "cell_type": "code",
   "execution_count": null,
   "id": "92fe5ef4",
   "metadata": {},
   "outputs": [],
   "source": [
    "合計 = 0\n",
    "for 要素 in 降水確率:\n",
    "    合計 += 要素"
   ]
  },
  {
   "cell_type": "code",
   "execution_count": null,
   "id": "b78c671b",
   "metadata": {},
   "outputs": [],
   "source": [
    "合計/6"
   ]
  },
  {
   "cell_type": "code",
   "execution_count": null,
   "id": "c301b699",
   "metadata": {},
   "outputs": [],
   "source": [
    "最大値 = 0\n",
    "for 要素 in 降水確率:\n",
    "    if 要素 > 最大値:\n",
    "        最大値 = 要素"
   ]
  },
  {
   "cell_type": "code",
   "execution_count": null,
   "id": "0382cc4e",
   "metadata": {},
   "outputs": [],
   "source": [
    "最大値"
   ]
  },
  {
   "cell_type": "code",
   "execution_count": null,
   "id": "aa12261f",
   "metadata": {},
   "outputs": [],
   "source": []
  }
 ],
 "metadata": {
  "kernelspec": {
   "display_name": "Python 3 (ipykernel)",
   "language": "python",
   "name": "python3"
  },
  "language_info": {
   "codemirror_mode": {
    "name": "ipython",
    "version": 3
   },
   "file_extension": ".py",
   "mimetype": "text/x-python",
   "name": "python",
   "nbconvert_exporter": "python",
   "pygments_lexer": "ipython3",
   "version": "3.9.12"
  }
 },
 "nbformat": 4,
 "nbformat_minor": 5
}
