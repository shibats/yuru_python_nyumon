{
 "cells": [
  {
   "cell_type": "markdown",
   "id": "81363d5e",
   "metadata": {},
   "source": [
    "## データ構造"
   ]
  },
  {
   "cell_type": "code",
   "execution_count": null,
   "id": "62f34c60",
   "metadata": {},
   "outputs": [],
   "source": [
    "職業名 = \"勇者\""
   ]
  },
  {
   "cell_type": "markdown",
   "id": "0e1b5322",
   "metadata": {},
   "source": [
    "## 組み込み型"
   ]
  },
  {
   "cell_type": "code",
   "execution_count": null,
   "id": "1515c7a6",
   "metadata": {},
   "outputs": [],
   "source": [
    "# 魔法使いのデータ構造\n",
    "name = \"魔法使いA\"\n",
    "hp = 50   # 体力\n",
    "mp = 30   # 魔法力\n",
    "exp = 12  # 経験値\n",
    "level = 2    # レベル\n",
    "inventory = [\"魔法の杖\", \"魔法の帽子\", \"命の指輪\"] # 持ち物"
   ]
  },
  {
   "cell_type": "code",
   "execution_count": null,
   "id": "341faaef",
   "metadata": {},
   "outputs": [],
   "source": [
    "damage = 10  # 戦闘で敵に受けたダメージ\n",
    "if \"命の指輪\" in inventory:\n",
    "    # 命の指輪を持っていると，ダメージが半減する\n",
    "    damage /= 2  # damageの値を1/2にする\n",
    "hp -= damage"
   ]
  },
  {
   "cell_type": "markdown",
   "id": "47962cf5",
   "metadata": {},
   "source": [
    "## 辞書"
   ]
  },
  {
   "cell_type": "code",
   "execution_count": null,
   "id": "c3545c94",
   "metadata": {},
   "outputs": [],
   "source": [
    "hp = 20  # スライムの体力"
   ]
  },
  {
   "cell_type": "code",
   "execution_count": null,
   "id": "058ec0d8",
   "metadata": {},
   "outputs": [],
   "source": [
    "wizard = {\"name\":\"魔法使いA\",  # 名前\n",
    "              \"hp\":50,            # 体力\n",
    "              \"mp\":30,            # 魔法力\n",
    "              \"exp\":12,           # 経験値\n",
    "              \"level\":2,          # レベル\n",
    "              \"inventory\":[\"魔法の杖\", \"魔法の帽子\", \"命の指輪\"]\n",
    "             }"
   ]
  },
  {
   "cell_type": "code",
   "execution_count": null,
   "id": "3683efc5",
   "metadata": {},
   "outputs": [],
   "source": [
    "slime = {\"name\":\"スライムA\",  # 名前\n",
    "              \"hp\":20,           # 体力\n",
    "              \"mp\":0,            # 魔法力\n",
    "              \"exp\":5,           # 経験値\n",
    "              \"level\":1,         # レベル\n",
    "              \"inventory\":[\"天の涙\"]\n",
    "            }"
   ]
  },
  {
   "cell_type": "code",
   "execution_count": null,
   "id": "0a86ffd2",
   "metadata": {},
   "outputs": [],
   "source": [
    "slime[\"hp\"] -= 12  # スライムの体力を12減らす\n",
    "wizard[\"hp\"] -= 5   # 魔法使いの体力を5減らす"
   ]
  },
  {
   "cell_type": "markdown",
   "id": "44ec3c38",
   "metadata": {},
   "source": [
    "## 名前空間"
   ]
  },
  {
   "cell_type": "code",
   "execution_count": null,
   "id": "50128299",
   "metadata": {},
   "outputs": [],
   "source": [
    "language = \"日本語\""
   ]
  },
  {
   "cell_type": "code",
   "execution_count": null,
   "id": "c1572a2c",
   "metadata": {},
   "outputs": [],
   "source": [
    "namespace = {}"
   ]
  },
  {
   "cell_type": "code",
   "execution_count": null,
   "id": "cc747942",
   "metadata": {},
   "outputs": [],
   "source": [
    "namespace[\"language\"] = \"日本語\""
   ]
  },
  {
   "cell_type": "markdown",
   "id": "cf95cddb",
   "metadata": {},
   "source": [
    "## オブジェクト"
   ]
  },
  {
   "cell_type": "code",
   "execution_count": null,
   "id": "7eaa0071",
   "metadata": {},
   "outputs": [],
   "source": [
    "from datetime import date"
   ]
  },
  {
   "cell_type": "code",
   "execution_count": null,
   "id": "f13ce50f",
   "metadata": {},
   "outputs": [],
   "source": [
    "doha_miracle = date(2022, 11, 23) # ドーハの奇跡"
   ]
  },
  {
   "cell_type": "code",
   "execution_count": null,
   "id": "565d12c2",
   "metadata": {},
   "outputs": [],
   "source": [
    "doha_miracle.year  # 西暦を取り出す"
   ]
  },
  {
   "cell_type": "code",
   "execution_count": null,
   "id": "1e540fbd",
   "metadata": {},
   "outputs": [],
   "source": [
    "doha_tragedy = date(1993, 10, 28)  # ドーハの悲劇"
   ]
  },
  {
   "cell_type": "code",
   "execution_count": null,
   "id": "88ef34e5",
   "metadata": {},
   "outputs": [],
   "source": [
    "doha_tragedy   # オブジェクトを表示する"
   ]
  },
  {
   "cell_type": "code",
   "execution_count": null,
   "id": "f64b8768",
   "metadata": {},
   "outputs": [],
   "source": [
    "doha_miracle-doha_tragedy  # 日付の差を計算"
   ]
  },
  {
   "cell_type": "code",
   "execution_count": null,
   "id": "a3f2136b",
   "metadata": {},
   "outputs": [],
   "source": [
    "doha_delta = doha_miracle-doha_tragedy  # 日差を変数に代入する"
   ]
  },
  {
   "cell_type": "code",
   "execution_count": null,
   "id": "e0133b6a",
   "metadata": {},
   "outputs": [],
   "source": [
    "doha_delta.total_seconds()   # 日差から秒差を計算する"
   ]
  },
  {
   "cell_type": "code",
   "execution_count": null,
   "id": "cc859ae9",
   "metadata": {},
   "outputs": [],
   "source": []
  }
 ],
 "metadata": {
  "kernelspec": {
   "display_name": "Python 3 (ipykernel)",
   "language": "python",
   "name": "python3"
  },
  "language_info": {
   "codemirror_mode": {
    "name": "ipython",
    "version": 3
   },
   "file_extension": ".py",
   "mimetype": "text/x-python",
   "name": "python",
   "nbconvert_exporter": "python",
   "pygments_lexer": "ipython3",
   "version": "3.9.12"
  }
 },
 "nbformat": 4,
 "nbformat_minor": 5
}
