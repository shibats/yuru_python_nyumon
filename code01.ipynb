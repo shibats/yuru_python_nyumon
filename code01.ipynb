{
 "cells": [
  {
   "cell_type": "markdown",
   "id": "25111e98",
   "metadata": {},
   "source": [
    "## Pythonのプログラム"
   ]
  },
  {
   "cell_type": "code",
   "execution_count": null,
   "id": "17526bd9",
   "metadata": {},
   "outputs": [],
   "source": [
    "5+2   # Pythonで足し算をする"
   ]
  },
  {
   "cell_type": "markdown",
   "id": "2a308c93",
   "metadata": {},
   "source": [
    "## 変数と計算"
   ]
  },
  {
   "cell_type": "code",
   "execution_count": null,
   "id": "b8362eff",
   "metadata": {},
   "outputs": [],
   "source": [
    "りんご = 5\n",
    "みかん = 2"
   ]
  },
  {
   "cell_type": "code",
   "execution_count": null,
   "id": "96cb58ea",
   "metadata": {},
   "outputs": [],
   "source": [
    "りんご+みかん   # りんごとみかんを足す"
   ]
  },
  {
   "cell_type": "markdown",
   "id": "7ac74458",
   "metadata": {},
   "source": [
    "### 酸素残量計算プログラム"
   ]
  },
  {
   "cell_type": "code",
   "execution_count": null,
   "id": "e3c4db51",
   "metadata": {},
   "outputs": [],
   "source": [
    "日数 = 5\n",
    "クルー人数 = 13\n",
    "酸素消費量 = 0.13"
   ]
  },
  {
   "cell_type": "code",
   "execution_count": null,
   "id": "66360c64",
   "metadata": {},
   "outputs": [],
   "source": [
    "クルー人数*酸素消費量*日数"
   ]
  },
  {
   "cell_type": "markdown",
   "id": "b116fa40",
   "metadata": {},
   "source": [
    "## モデル"
   ]
  },
  {
   "cell_type": "code",
   "execution_count": null,
   "id": "ebdef96b",
   "metadata": {},
   "outputs": [],
   "source": [
    "商品の価格 = 1000\n",
    "上乗せ率 = 1.1   # 100%(商品の値段)+10%"
   ]
  },
  {
   "cell_type": "code",
   "execution_count": null,
   "id": "41680339",
   "metadata": {},
   "outputs": [],
   "source": [
    "商品の価格*上乗せ率"
   ]
  },
  {
   "cell_type": "code",
   "execution_count": null,
   "id": "c5c70e60",
   "metadata": {},
   "outputs": [],
   "source": [
    "買う回数 = 20\n",
    "当たる回数 = 1\n",
    "外れる回数 = 19"
   ]
  },
  {
   "cell_type": "code",
   "execution_count": null,
   "id": "bc2327d9",
   "metadata": {},
   "outputs": [],
   "source": [
    "商品の価格*上乗せ率*(外れる回数/買う回数)"
   ]
  },
  {
   "cell_type": "markdown",
   "id": "1267730a",
   "metadata": {},
   "source": [
    "## 関数"
   ]
  },
  {
   "cell_type": "code",
   "execution_count": null,
   "id": "634f09b6",
   "metadata": {},
   "outputs": [],
   "source": [
    "身長 = 1.73  # 単位はm\n",
    "体重 = 68    # 単位はKg\n",
    "BMI = 体重/(身長*身長)  # 公式でBMIを計算する"
   ]
  },
  {
   "cell_type": "code",
   "execution_count": null,
   "id": "0d3e02a5",
   "metadata": {},
   "outputs": [],
   "source": [
    "BMI  # 変数の中身を確認する"
   ]
  },
  {
   "cell_type": "code",
   "execution_count": null,
   "id": "2744919e",
   "metadata": {},
   "outputs": [],
   "source": [
    "def BMIを計算する(身長, 体重):\n",
    "    BMI = 体重/(身長*身長)\n",
    "    return BMI"
   ]
  },
  {
   "cell_type": "code",
   "execution_count": null,
   "id": "7f89d4ae",
   "metadata": {},
   "outputs": [],
   "source": [
    "BMIを計算する(1.62, 53)"
   ]
  },
  {
   "cell_type": "markdown",
   "id": "1661d507",
   "metadata": {},
   "source": [
    "## 計算モデル"
   ]
  },
  {
   "cell_type": "code",
   "execution_count": null,
   "id": "e7018052",
   "metadata": {},
   "outputs": [],
   "source": [
    "# 下のプログラムを実行する前に，このプログラムを実行してください\n",
    "def 円の面積を計算する(半径):\n",
    "    面積 = 半径*半径*3.14\n",
    "    return 面積"
   ]
  },
  {
   "cell_type": "code",
   "execution_count": null,
   "id": "52c67868",
   "metadata": {},
   "outputs": [],
   "source": [
    "円の面積を計算する(10)"
   ]
  },
  {
   "cell_type": "code",
   "execution_count": null,
   "id": "533d884e",
   "metadata": {},
   "outputs": [],
   "source": [
    "# 下のプログラムを実行する前に，このプログラムを実行してください\n",
    "def 台形の面積を計算する(上底, 下底, 高さ):\n",
    "    面積 = (上底+下底)*高さ/2\n",
    "    return 面積"
   ]
  },
  {
   "cell_type": "code",
   "execution_count": null,
   "id": "dbbfec52",
   "metadata": {},
   "outputs": [],
   "source": [
    "台形の面積を計算する(10, 20, 5)"
   ]
  },
  {
   "cell_type": "code",
   "execution_count": null,
   "id": "74c6c277",
   "metadata": {},
   "outputs": [],
   "source": []
  }
 ],
 "metadata": {
  "kernelspec": {
   "display_name": "Python 3 (ipykernel)",
   "language": "python",
   "name": "python3"
  },
  "language_info": {
   "codemirror_mode": {
    "name": "ipython",
    "version": 3
   },
   "file_extension": ".py",
   "mimetype": "text/x-python",
   "name": "python",
   "nbconvert_exporter": "python",
   "pygments_lexer": "ipython3",
   "version": "3.9.12"
  }
 },
 "nbformat": 4,
 "nbformat_minor": 5
}
